{
 "cells": [
  {
   "cell_type": "code",
   "execution_count": 1,
   "metadata": {
    "colab": {
     "base_uri": "https://localhost:8080/"
    },
    "executionInfo": {
     "elapsed": 12756,
     "status": "ok",
     "timestamp": 1636132856472,
     "user": {
      "displayName": "Ayush Sharma",
      "photoUrl": "https://lh3.googleusercontent.com/a-/AOh14GifvA-4dusgjDSih1mKNTcUkMKyTdEvmuzoHC3dCw=s64",
      "userId": "06400673394490416458"
     },
     "user_tz": -330
    },
    "id": "LR3hLD75KbkI",
    "outputId": "72f3f79c-4cf8-46e1-caba-dba7d24dcf96"
   },
   "outputs": [
    {
     "name": "stdout",
     "output_type": "stream",
     "text": [
      "Defaulting to user installation because normal site-packages is not writeable\n",
      "Requirement already satisfied: requests in /home/zhongli/.local/lib/python3.10/site-packages (2.28.1)\n",
      "Requirement already satisfied: charset-normalizer<3,>=2 in /home/zhongli/.local/lib/python3.10/site-packages (from requests) (2.1.1)\n",
      "Requirement already satisfied: idna<4,>=2.5 in /home/zhongli/.local/lib/python3.10/site-packages (from requests) (3.4)\n",
      "Requirement already satisfied: urllib3<1.27,>=1.21.1 in /usr/lib/python3/dist-packages (from requests) (1.26.5)\n",
      "Requirement already satisfied: certifi>=2017.4.17 in /home/zhongli/.local/lib/python3.10/site-packages (from requests) (2022.9.24)\n",
      "Defaulting to user installation because normal site-packages is not writeable\n",
      "Requirement already satisfied: Pillow in /usr/lib/python3/dist-packages (9.0.1)\n",
      "Defaulting to user installation because normal site-packages is not writeable\n",
      "Requirement already satisfied: tqdm in /home/zhongli/.local/lib/python3.10/site-packages (4.64.1)\n",
      "Defaulting to user installation because normal site-packages is not writeable\n",
      "Requirement already satisfied: Cmake in /home/zhongli/.local/lib/python3.10/site-packages (3.25.0)\n",
      "Defaulting to user installation because normal site-packages is not writeable\n",
      "Requirement already satisfied: dlib in /home/zhongli/.local/lib/python3.10/site-packages (19.24.0)\n",
      "Defaulting to user installation because normal site-packages is not writeable\n",
      "Requirement already satisfied: tensorflow in /home/zhongli/.local/lib/python3.10/site-packages (2.11.0)\n",
      "Requirement already satisfied: wrapt>=1.11.0 in /home/zhongli/.local/lib/python3.10/site-packages (from tensorflow) (1.14.1)\n",
      "Requirement already satisfied: termcolor>=1.1.0 in /home/zhongli/.local/lib/python3.10/site-packages (from tensorflow) (2.1.1)\n",
      "Requirement already satisfied: tensorboard<2.12,>=2.11 in /home/zhongli/.local/lib/python3.10/site-packages (from tensorflow) (2.11.0)\n",
      "Requirement already satisfied: typing-extensions>=3.6.6 in /home/zhongli/.local/lib/python3.10/site-packages (from tensorflow) (4.4.0)\n",
      "Requirement already satisfied: flatbuffers>=2.0 in /home/zhongli/.local/lib/python3.10/site-packages (from tensorflow) (22.11.23)\n",
      "Requirement already satisfied: libclang>=13.0.0 in /home/zhongli/.local/lib/python3.10/site-packages (from tensorflow) (14.0.6)\n",
      "Requirement already satisfied: packaging in /home/zhongli/.local/lib/python3.10/site-packages (from tensorflow) (21.3)\n",
      "Requirement already satisfied: keras<2.12,>=2.11.0 in /home/zhongli/.local/lib/python3.10/site-packages (from tensorflow) (2.11.0)\n",
      "Requirement already satisfied: six>=1.12.0 in /usr/lib/python3/dist-packages (from tensorflow) (1.16.0)\n",
      "Requirement already satisfied: protobuf<3.20,>=3.9.2 in /home/zhongli/.local/lib/python3.10/site-packages (from tensorflow) (3.19.6)\n",
      "Requirement already satisfied: google-pasta>=0.1.1 in /home/zhongli/.local/lib/python3.10/site-packages (from tensorflow) (0.2.0)\n",
      "Requirement already satisfied: absl-py>=1.0.0 in /home/zhongli/.local/lib/python3.10/site-packages (from tensorflow) (1.3.0)\n",
      "Requirement already satisfied: tensorflow-estimator<2.12,>=2.11.0 in /home/zhongli/.local/lib/python3.10/site-packages (from tensorflow) (2.11.0)\n",
      "Requirement already satisfied: tensorflow-io-gcs-filesystem>=0.23.1 in /home/zhongli/.local/lib/python3.10/site-packages (from tensorflow) (0.28.0)\n",
      "Requirement already satisfied: opt-einsum>=2.3.2 in /home/zhongli/.local/lib/python3.10/site-packages (from tensorflow) (3.3.0)\n",
      "Requirement already satisfied: setuptools in /usr/lib/python3/dist-packages (from tensorflow) (59.6.0)\n",
      "Requirement already satisfied: gast<=0.4.0,>=0.2.1 in /home/zhongli/.local/lib/python3.10/site-packages (from tensorflow) (0.4.0)\n",
      "Requirement already satisfied: numpy>=1.20 in /usr/lib/python3/dist-packages (from tensorflow) (1.21.5)\n",
      "Requirement already satisfied: h5py>=2.9.0 in /home/zhongli/.local/lib/python3.10/site-packages (from tensorflow) (3.7.0)\n",
      "Requirement already satisfied: grpcio<2.0,>=1.24.3 in /home/zhongli/.local/lib/python3.10/site-packages (from tensorflow) (1.50.0)\n",
      "Requirement already satisfied: astunparse>=1.6.0 in /home/zhongli/.local/lib/python3.10/site-packages (from tensorflow) (1.6.3)\n",
      "Requirement already satisfied: wheel<1.0,>=0.23.0 in /usr/lib/python3/dist-packages (from astunparse>=1.6.0->tensorflow) (0.37.1)\n",
      "Requirement already satisfied: requests<3,>=2.21.0 in /home/zhongli/.local/lib/python3.10/site-packages (from tensorboard<2.12,>=2.11->tensorflow) (2.28.1)\n",
      "Requirement already satisfied: tensorboard-plugin-wit>=1.6.0 in /home/zhongli/.local/lib/python3.10/site-packages (from tensorboard<2.12,>=2.11->tensorflow) (1.8.1)\n",
      "Requirement already satisfied: markdown>=2.6.8 in /home/zhongli/.local/lib/python3.10/site-packages (from tensorboard<2.12,>=2.11->tensorflow) (3.4.1)\n",
      "Requirement already satisfied: google-auth-oauthlib<0.5,>=0.4.1 in /home/zhongli/.local/lib/python3.10/site-packages (from tensorboard<2.12,>=2.11->tensorflow) (0.4.6)\n",
      "Requirement already satisfied: google-auth<3,>=1.6.3 in /home/zhongli/.local/lib/python3.10/site-packages (from tensorboard<2.12,>=2.11->tensorflow) (2.14.1)\n",
      "Requirement already satisfied: tensorboard-data-server<0.7.0,>=0.6.0 in /home/zhongli/.local/lib/python3.10/site-packages (from tensorboard<2.12,>=2.11->tensorflow) (0.6.1)\n",
      "Requirement already satisfied: werkzeug>=1.0.1 in /home/zhongli/.local/lib/python3.10/site-packages (from tensorboard<2.12,>=2.11->tensorflow) (2.2.2)\n",
      "Requirement already satisfied: pyparsing!=3.0.5,>=2.0.2 in /usr/lib/python3/dist-packages (from packaging->tensorflow) (2.4.7)\n",
      "Requirement already satisfied: pyasn1-modules>=0.2.1 in /home/zhongli/.local/lib/python3.10/site-packages (from google-auth<3,>=1.6.3->tensorboard<2.12,>=2.11->tensorflow) (0.2.8)\n",
      "Requirement already satisfied: rsa<5,>=3.1.4 in /home/zhongli/.local/lib/python3.10/site-packages (from google-auth<3,>=1.6.3->tensorboard<2.12,>=2.11->tensorflow) (4.9)\n",
      "Requirement already satisfied: cachetools<6.0,>=2.0.0 in /home/zhongli/.local/lib/python3.10/site-packages (from google-auth<3,>=1.6.3->tensorboard<2.12,>=2.11->tensorflow) (5.2.0)\n",
      "Requirement already satisfied: requests-oauthlib>=0.7.0 in /home/zhongli/.local/lib/python3.10/site-packages (from google-auth-oauthlib<0.5,>=0.4.1->tensorboard<2.12,>=2.11->tensorflow) (1.3.1)\n",
      "Requirement already satisfied: urllib3<1.27,>=1.21.1 in /usr/lib/python3/dist-packages (from requests<3,>=2.21.0->tensorboard<2.12,>=2.11->tensorflow) (1.26.5)\n",
      "Requirement already satisfied: charset-normalizer<3,>=2 in /home/zhongli/.local/lib/python3.10/site-packages (from requests<3,>=2.21.0->tensorboard<2.12,>=2.11->tensorflow) (2.1.1)\n",
      "Requirement already satisfied: certifi>=2017.4.17 in /home/zhongli/.local/lib/python3.10/site-packages (from requests<3,>=2.21.0->tensorboard<2.12,>=2.11->tensorflow) (2022.9.24)\n",
      "Requirement already satisfied: idna<4,>=2.5 in /home/zhongli/.local/lib/python3.10/site-packages (from requests<3,>=2.21.0->tensorboard<2.12,>=2.11->tensorflow) (3.4)\n",
      "Requirement already satisfied: MarkupSafe>=2.1.1 in /home/zhongli/.local/lib/python3.10/site-packages (from werkzeug>=1.0.1->tensorboard<2.12,>=2.11->tensorflow) (2.1.1)\n",
      "Requirement already satisfied: pyasn1<0.5.0,>=0.4.6 in /home/zhongli/.local/lib/python3.10/site-packages (from pyasn1-modules>=0.2.1->google-auth<3,>=1.6.3->tensorboard<2.12,>=2.11->tensorflow) (0.4.8)\n",
      "Requirement already satisfied: oauthlib>=3.0.0 in /usr/lib/python3/dist-packages (from requests-oauthlib>=0.7.0->google-auth-oauthlib<0.5,>=0.4.1->tensorboard<2.12,>=2.11->tensorflow) (3.2.0)\n"
     ]
    }
   ],
   "source": [
    "!pip install requests\n",
    "!pip install Pillow\n",
    "!pip install tqdm\n",
    "!pip install Cmake\n",
    "!pip install dlib\n",
    "\n",
    "!pip install tensorflow"
   ]
  },
  {
   "cell_type": "code",
   "execution_count": 2,
   "metadata": {
    "colab": {
     "base_uri": "https://localhost:8080/"
    },
    "executionInfo": {
     "elapsed": 1257,
     "status": "ok",
     "timestamp": 1636132857723,
     "user": {
      "displayName": "Ayush Sharma",
      "photoUrl": "https://lh3.googleusercontent.com/a-/AOh14GifvA-4dusgjDSih1mKNTcUkMKyTdEvmuzoHC3dCw=s64",
      "userId": "06400673394490416458"
     },
     "user_tz": -330
    },
    "id": "OYXtgHFjJ6i-",
    "outputId": "3a97c583-4a11-4c24-bdbd-a57a685a6d31"
   },
   "outputs": [
    {
     "name": "stdout",
     "output_type": "stream",
     "text": [
      "fatal: destination path 'Epoching_StyleGan2_Setup' already exists and is not an empty directory.\r\n"
     ]
    }
   ],
   "source": [
    "!git clone https://github.com/hardik1115/Epoching_StyleGan2_Setup.git"
   ]
  },
  {
   "cell_type": "code",
   "execution_count": 3,
   "metadata": {
    "executionInfo": {
     "elapsed": 9,
     "status": "ok",
     "timestamp": 1636132857725,
     "user": {
      "displayName": "Ayush Sharma",
      "photoUrl": "https://lh3.googleusercontent.com/a-/AOh14GifvA-4dusgjDSih1mKNTcUkMKyTdEvmuzoHC3dCw=s64",
      "userId": "06400673394490416458"
     },
     "user_tz": -330
    },
    "id": "HwxZ-PchKOVs"
   },
   "outputs": [
    {
     "ename": "Error",
     "evalue": "Destination path './.git' already exists",
     "output_type": "error",
     "traceback": [
      "\u001b[0;31m---------------------------------------------------------------------------\u001b[0m",
      "\u001b[0;31mError\u001b[0m                                     Traceback (most recent call last)",
      "\u001b[0;32m/tmp/ipykernel_17970/4004125658.py\u001b[0m in \u001b[0;36m<module>\u001b[0;34m\u001b[0m\n\u001b[1;32m      7\u001b[0m \u001b[0;32mif\u001b[0m \u001b[0mos\u001b[0m\u001b[0;34m.\u001b[0m\u001b[0mpath\u001b[0m\u001b[0;34m.\u001b[0m\u001b[0mexists\u001b[0m\u001b[0;34m(\u001b[0m\u001b[0mrepo_root\u001b[0m\u001b[0;34m)\u001b[0m\u001b[0;34m:\u001b[0m\u001b[0;34m\u001b[0m\u001b[0;34m\u001b[0m\u001b[0m\n\u001b[1;32m      8\u001b[0m   \u001b[0;32mfor\u001b[0m \u001b[0mcontent\u001b[0m \u001b[0;32min\u001b[0m \u001b[0mrepo_root\u001b[0m\u001b[0;34m.\u001b[0m\u001b[0miterdir\u001b[0m\u001b[0;34m(\u001b[0m\u001b[0;34m)\u001b[0m\u001b[0;34m:\u001b[0m\u001b[0;34m\u001b[0m\u001b[0;34m\u001b[0m\u001b[0m\n\u001b[0;32m----> 9\u001b[0;31m     \u001b[0mshutil\u001b[0m\u001b[0;34m.\u001b[0m\u001b[0mmove\u001b[0m\u001b[0;34m(\u001b[0m\u001b[0mstr\u001b[0m\u001b[0;34m(\u001b[0m\u001b[0mcontent\u001b[0m\u001b[0;34m)\u001b[0m\u001b[0;34m,\u001b[0m \u001b[0;34m'.'\u001b[0m\u001b[0;34m)\u001b[0m\u001b[0;34m\u001b[0m\u001b[0;34m\u001b[0m\u001b[0m\n\u001b[0m\u001b[1;32m     10\u001b[0m \u001b[0;34m\u001b[0m\u001b[0m\n\u001b[1;32m     11\u001b[0m   \u001b[0mshutil\u001b[0m\u001b[0;34m.\u001b[0m\u001b[0mrmtree\u001b[0m\u001b[0;34m(\u001b[0m\u001b[0mrepo_root\u001b[0m\u001b[0;34m)\u001b[0m\u001b[0;34m\u001b[0m\u001b[0;34m\u001b[0m\u001b[0m\n",
      "\u001b[0;32m/usr/lib/python3.10/shutil.py\u001b[0m in \u001b[0;36mmove\u001b[0;34m(src, dst, copy_function)\u001b[0m\n\u001b[1;32m    811\u001b[0m \u001b[0;34m\u001b[0m\u001b[0m\n\u001b[1;32m    812\u001b[0m         \u001b[0;32mif\u001b[0m \u001b[0mos\u001b[0m\u001b[0;34m.\u001b[0m\u001b[0mpath\u001b[0m\u001b[0;34m.\u001b[0m\u001b[0mexists\u001b[0m\u001b[0;34m(\u001b[0m\u001b[0mreal_dst\u001b[0m\u001b[0;34m)\u001b[0m\u001b[0;34m:\u001b[0m\u001b[0;34m\u001b[0m\u001b[0;34m\u001b[0m\u001b[0m\n\u001b[0;32m--> 813\u001b[0;31m             \u001b[0;32mraise\u001b[0m \u001b[0mError\u001b[0m\u001b[0;34m(\u001b[0m\u001b[0;34m\"Destination path '%s' already exists\"\u001b[0m \u001b[0;34m%\u001b[0m \u001b[0mreal_dst\u001b[0m\u001b[0;34m)\u001b[0m\u001b[0;34m\u001b[0m\u001b[0;34m\u001b[0m\u001b[0m\n\u001b[0m\u001b[1;32m    814\u001b[0m     \u001b[0;32mtry\u001b[0m\u001b[0;34m:\u001b[0m\u001b[0;34m\u001b[0m\u001b[0;34m\u001b[0m\u001b[0m\n\u001b[1;32m    815\u001b[0m         \u001b[0mos\u001b[0m\u001b[0;34m.\u001b[0m\u001b[0mrename\u001b[0m\u001b[0;34m(\u001b[0m\u001b[0msrc\u001b[0m\u001b[0;34m,\u001b[0m \u001b[0mreal_dst\u001b[0m\u001b[0;34m)\u001b[0m\u001b[0;34m\u001b[0m\u001b[0;34m\u001b[0m\u001b[0m\n",
      "\u001b[0;31mError\u001b[0m: Destination path './.git' already exists"
     ]
    }
   ],
   "source": [
    "import shutil\n",
    "from pathlib import Path\n",
    "import os\n",
    "repo_root = Path('Epoching_StyleGan2_Setup/')\n",
    "\n",
    "# Pull contents out of the repo, into our current directory.\n",
    "if os.path.exists(repo_root):\n",
    "  for content in repo_root.iterdir():\n",
    "    shutil.move(str(content), '.')\n",
    "\n",
    "  shutil.rmtree(repo_root)"
   ]
  },
  {
   "cell_type": "code",
   "execution_count": null,
   "metadata": {
    "executionInfo": {
     "elapsed": 4895,
     "status": "ok",
     "timestamp": 1636132862612,
     "user": {
      "displayName": "Ayush Sharma",
      "photoUrl": "https://lh3.googleusercontent.com/a-/AOh14GifvA-4dusgjDSih1mKNTcUkMKyTdEvmuzoHC3dCw=s64",
      "userId": "06400673394490416458"
     },
     "user_tz": -330
    },
    "id": "eo9bv0ieKW5B"
   },
   "outputs": [],
   "source": [
    "import sys\n",
    "sys.path.append('stylegan2/')\n",
    "\n",
    "from stylegan2 import pretrained_networks\n",
    "from stylegan2 import dnnlib\n",
    "from stylegan2.dnnlib import tflib\n",
    "!pip install tensorflow\n",
    "from pathlib import Path\n",
    "from PIL import Image\n",
    "import pickle\n",
    "import numpy as np\n",
    "\n",
    "import ipywidgets as widgets\n",
    "from tqdm import tqdm\n"
   ]
  },
  {
   "cell_type": "code",
   "execution_count": null,
   "metadata": {
    "colab": {
     "base_uri": "https://localhost:8080/"
    },
    "executionInfo": {
     "elapsed": 660,
     "status": "ok",
     "timestamp": 1636132863248,
     "user": {
      "displayName": "Ayush Sharma",
      "photoUrl": "https://lh3.googleusercontent.com/a-/AOh14GifvA-4dusgjDSih1mKNTcUkMKyTdEvmuzoHC3dCw=s64",
      "userId": "06400673394490416458"
     },
     "user_tz": -330
    },
    "id": "T-NHJIfi8dlU",
    "outputId": "5c0a5a2d-485f-43b7-842d-66c60752deef"
   },
   "outputs": [],
   "source": [
    "#T-shirts\n",
    "!gdown --id 1-jmlEpNCMCwbFCBKbF2Ag117tzurdwVx\n",
    "!mv network-snapshot-010579.pkl generator_model.pkl"
   ]
  },
  {
   "cell_type": "code",
   "execution_count": null,
   "metadata": {
    "colab": {
     "base_uri": "https://localhost:8080/"
    },
    "executionInfo": {
     "elapsed": 3936,
     "status": "ok",
     "timestamp": 1636132867174,
     "user": {
      "displayName": "Ayush Sharma",
      "photoUrl": "https://lh3.googleusercontent.com/a-/AOh14GifvA-4dusgjDSih1mKNTcUkMKyTdEvmuzoHC3dCw=s64",
      "userId": "06400673394490416458"
     },
     "user_tz": -330
    },
    "id": "3_UNIk_uqctN",
    "outputId": "bdc574a5-7b27-489a-9398-9409e36f9762"
   },
   "outputs": [],
   "source": [
    "# HandBags\n",
    "!gdown --id 165bONdiy6W8tt0aHiWarS8cCjTsWSRYO\n",
    "!mv network-snapshot-020475.pkl generator_model.pkl"
   ]
  },
  {
   "cell_type": "code",
   "execution_count": null,
   "metadata": {
    "colab": {
     "base_uri": "https://localhost:8080/"
    },
    "executionInfo": {
     "elapsed": 1801,
     "status": "ok",
     "timestamp": 1636132868958,
     "user": {
      "displayName": "Ayush Sharma",
      "photoUrl": "https://lh3.googleusercontent.com/a-/AOh14GifvA-4dusgjDSih1mKNTcUkMKyTdEvmuzoHC3dCw=s64",
      "userId": "06400673394490416458"
     },
     "user_tz": -330
    },
    "id": "IrfWONjoC1FC",
    "outputId": "40d8eb55-4a03-4397-fe20-cf3f5c53f4b2"
   },
   "outputs": [],
   "source": [
    "# WebApp\n",
    "!gdown --id 11yg3GwNm7aueoaJEykvW36oTq9R8mwU3\n",
    "!unzip /content/ProductDesign.zip"
   ]
  },
  {
   "cell_type": "code",
   "execution_count": null,
   "metadata": {
    "executionInfo": {
     "elapsed": 5,
     "status": "ok",
     "timestamp": 1636132868959,
     "user": {
      "displayName": "Ayush Sharma",
      "photoUrl": "https://lh3.googleusercontent.com/a-/AOh14GifvA-4dusgjDSih1mKNTcUkMKyTdEvmuzoHC3dCw=s64",
      "userId": "06400673394490416458"
     },
     "user_tz": -330
    },
    "id": "3uYn8JtsueNS"
   },
   "outputs": [],
   "source": [
    "fps = 16\n",
    "results_size = 256"
   ]
  },
  {
   "cell_type": "code",
   "execution_count": null,
   "metadata": {
    "colab": {
     "base_uri": "https://localhost:8080/"
    },
    "executionInfo": {
     "elapsed": 57517,
     "status": "ok",
     "timestamp": 1636132926472,
     "user": {
      "displayName": "Ayush Sharma",
      "photoUrl": "https://lh3.googleusercontent.com/a-/AOh14GifvA-4dusgjDSih1mKNTcUkMKyTdEvmuzoHC3dCw=s64",
      "userId": "06400673394490416458"
     },
     "user_tz": -330
    },
    "id": "GCdnzLerMTVM",
    "outputId": "04725ef5-83c4-426b-b1d5-ec30480128ca"
   },
   "outputs": [],
   "source": [
    "# Code to load the StyleGAN2 Model\n",
    "def load_model():\n",
    "    _G, _D, Gs = pretrained_networks.load_networks('/content/generator_model.pkl')\n",
    "    \n",
    "    noise_vars = [var for name, var in Gs.components.synthesis.vars.items() if name.startswith('noise')]\n",
    "    \n",
    "    Gs_kwargs = dnnlib.EasyDict()\n",
    "    Gs_kwargs.output_transform = dict(func=tflib.convert_images_to_uint8, nchw_to_nhwc=True)\n",
    "    Gs_kwargs.randomize_noise = False\n",
    "    \n",
    "    return Gs, noise_vars, Gs_kwargs\n",
    "\n",
    "# Generate images given a random seed (Integer)\n",
    "def generate_image_random(rand_seed):\n",
    "    rnd = np.random.RandomState(rand_seed)\n",
    "    z = rnd.randn(1, *Gs.input_shape[1:])\n",
    "    tflib.set_vars({var: rnd.randn(*var.shape.as_list()) for var in noise_vars})\n",
    "    images = Gs.run(z, None, **Gs_kwargs)\n",
    "    return images, z\n",
    "\n",
    "# Generate images given a latent code ( vector of size [1, 512] )\n",
    "def generate_image_from_z(z):\n",
    "    images = Gs.run(z, None, **Gs_kwargs)\n",
    "    return images\n",
    "  \n",
    "\n",
    "Gs, noise_vars, Gs_kwargs = load_model()"
   ]
  },
  {
   "cell_type": "code",
   "execution_count": null,
   "metadata": {
    "colab": {
     "base_uri": "https://localhost:8080/",
     "height": 273
    },
    "executionInfo": {
     "elapsed": 12484,
     "status": "ok",
     "timestamp": 1636132938946,
     "user": {
      "displayName": "Ayush Sharma",
      "photoUrl": "https://lh3.googleusercontent.com/a-/AOh14GifvA-4dusgjDSih1mKNTcUkMKyTdEvmuzoHC3dCw=s64",
      "userId": "06400673394490416458"
     },
     "user_tz": -330
    },
    "id": "KcmUd9eAMZiW",
    "outputId": "8026e901-aeea-4603-ab48-350dede0f654"
   },
   "outputs": [],
   "source": [
    "import pandas as pd\n",
    "from random import randrange\n",
    "\n",
    "image_map_data = []\n",
    "image_map_dimensions = 10\n",
    "# image_array=[1,100,200,300,400,500,600,700,800]\n",
    "for i in range(image_map_dimensions * image_map_dimensions):\n",
    "  image, latent_code = generate_image_random(randrange(1000))\n",
    "  # print(Image.fromarray(image[0]).resize((results_size, results_size)).save('pos_' + str(i)+'.png'))\n",
    "  image_map_data.append(\n",
    "      {\n",
    "        'id': 'pos_' + str(i),\n",
    "        'image': image,\n",
    "        'latent_vector':  latent_code\n",
    "      })\n",
    "\n",
    "image_map_data = pd.DataFrame(image_map_data)\n",
    "Image.fromarray(image[0]).resize((results_size, results_size))"
   ]
  },
  {
   "cell_type": "code",
   "execution_count": null,
   "metadata": {
    "colab": {
     "base_uri": "https://localhost:8080/",
     "height": 1000,
     "output_embedded_package_id": "1j2_g1JYTe7jAX-VpNSLyrDXgv8RuRMVL"
    },
    "executionInfo": {
     "elapsed": 22263,
     "status": "ok",
     "timestamp": 1636132961181,
     "user": {
      "displayName": "Ayush Sharma",
      "photoUrl": "https://lh3.googleusercontent.com/a-/AOh14GifvA-4dusgjDSih1mKNTcUkMKyTdEvmuzoHC3dCw=s64",
      "userId": "06400673394490416458"
     },
     "user_tz": -330
    },
    "id": "_Gs6Qa23OKI1",
    "outputId": "ad8584a0-3fd6-404d-ef2c-bd3e6a72d995"
   },
   "outputs": [],
   "source": [
    "import matplotlib.pyplot as plt\n",
    "\n",
    "def plot_image_map(image_map_data, image_map_dimensions):\n",
    "  fig = plt.figure(figsize=(image_map_dimensions * 4.6, image_map_dimensions * 4.6))\n",
    "  ax = [plt.subplot(image_map_dimensions, image_map_dimensions, i+1) for i in range(image_map_dimensions * image_map_dimensions)]\n",
    "\n",
    "  i = 0\n",
    "  for a in ax:\n",
    "      a.imshow(Image.fromarray(image_map_data['image'][i][0]).resize((results_size, results_size)), interpolation='nearest')\n",
    "      a.set_xticklabels([])\n",
    "      a.axes.get_xaxis().set_visible(False)\n",
    "      a.set_yticklabels([])\n",
    "      a.axes.get_yaxis().set_visible(False)\n",
    "\n",
    "      i = i+1\n",
    "      #a.set_aspect('equal')\n",
    "\n",
    "  fig.subplots_adjust(wspace=0, hspace=0)\n",
    "  # plt.show()\n",
    "  plt.subplots_adjust(wspace=0, hspace=0)\n",
    "  plt.savefig('/content/ProductDesign/img/handbags-fakes4.png',bbox_inches = 'tight',pad_inches=0)\n",
    "\n",
    "plot_image_map(image_map_data, image_map_dimensions)"
   ]
  },
  {
   "cell_type": "code",
   "execution_count": null,
   "metadata": {
    "executionInfo": {
     "elapsed": 181,
     "status": "ok",
     "timestamp": 1636132961187,
     "user": {
      "displayName": "Ayush Sharma",
      "photoUrl": "https://lh3.googleusercontent.com/a-/AOh14GifvA-4dusgjDSih1mKNTcUkMKyTdEvmuzoHC3dCw=s64",
      "userId": "06400673394490416458"
     },
     "user_tz": -330
    },
    "id": "BJv0gDWEPV_A"
   },
   "outputs": [],
   "source": [
    "def get_interpolated_vector(latent_vectors, proportions):\n",
    "  return sum([vector*proportion for vector, proportion in zip(latent_vectors, proportions)])\n",
    "\n",
    "def linear_interpolate(code1, code2, alpha):\n",
    "    return code1 * alpha + code2 * (1 - alpha)"
   ]
  },
  {
   "cell_type": "code",
   "execution_count": null,
   "metadata": {
    "executionInfo": {
     "elapsed": 183,
     "status": "ok",
     "timestamp": 1636132961193,
     "user": {
      "displayName": "Ayush Sharma",
      "photoUrl": "https://lh3.googleusercontent.com/a-/AOh14GifvA-4dusgjDSih1mKNTcUkMKyTdEvmuzoHC3dCw=s64",
      "userId": "06400673394490416458"
     },
     "user_tz": -330
    },
    "id": "Tmr-kZM-vp2Y"
   },
   "outputs": [],
   "source": [
    "output_gifs_path = Path('output_gifs')\n",
    "# Make Output Gifs folder if it doesn't exist.\n",
    "if not output_gifs_path.exists():\n",
    "    output_gifs_path.mkdir()"
   ]
  },
  {
   "cell_type": "code",
   "execution_count": null,
   "metadata": {
    "executionInfo": {
     "elapsed": 186,
     "status": "ok",
     "timestamp": 1636132961197,
     "user": {
      "displayName": "Ayush Sharma",
      "photoUrl": "https://lh3.googleusercontent.com/a-/AOh14GifvA-4dusgjDSih1mKNTcUkMKyTdEvmuzoHC3dCw=s64",
      "userId": "06400673394490416458"
     },
     "user_tz": -330
    },
    "id": "8Dvbv6-sSxzz"
   },
   "outputs": [],
   "source": [
    "def get_concat_h(im1, im2):\n",
    "    dst = Image.new('RGB', (im1.width + im2.width, im1.height))\n",
    "    dst.paste(im1, (0, 0))\n",
    "    dst.paste(im2, (im1.width, 0))\n",
    "    return dst\n",
    "\n",
    "def make_latent_interp_animation(code1, code2, img1, img2, num_interps = 10):\n",
    "    \n",
    "    step_size = 1.0/num_interps\n",
    "    \n",
    "    all_imgs = []\n",
    "    \n",
    "    amounts = np.arange(0, 1, step_size)\n",
    "    \n",
    "    for alpha in tqdm(amounts):\n",
    "        interpolated_latent_code = linear_interpolate(code1, code2, alpha)\n",
    "        images = generate_image_from_z(interpolated_latent_code)\n",
    "        interp_latent_image = Image.fromarray(images[0]).resize((results_size, results_size))\n",
    "        frame = get_concat_h(img1, interp_latent_image)\n",
    "        frame = get_concat_h(frame, img2)\n",
    "        #frame = interp_latent_image\n",
    "        all_imgs.append(frame)\n",
    "\n",
    "    save_name = output_gifs_path/'latent_space_traversal.gif'\n",
    "    all_imgs[0].save(save_name, save_all=True, append_images=all_imgs[1:], duration=1000/fps, loop=0)"
   ]
  },
  {
   "cell_type": "code",
   "execution_count": null,
   "metadata": {
    "executionInfo": {
     "elapsed": 188,
     "status": "ok",
     "timestamp": 1636132961200,
     "user": {
      "displayName": "Ayush Sharma",
      "photoUrl": "https://lh3.googleusercontent.com/a-/AOh14GifvA-4dusgjDSih1mKNTcUkMKyTdEvmuzoHC3dCw=s64",
      "userId": "06400673394490416458"
     },
     "user_tz": -330
    },
    "id": "uweavz0ky_12"
   },
   "outputs": [],
   "source": [
    "vector_list_1 = [image_map_data['latent_vector'][randrange(image_map_dimensions*image_map_dimensions)] for i in range(4)]\n",
    "proportion_list_1 = [0.15, 0.15, 0.35, 0.35]\n",
    "latent_code1 = get_interpolated_vector(vector_list_1, proportion_list_1)\n",
    "\n",
    "image1 = Image.fromarray(generate_image_from_z(latent_code1)[0]).resize((results_size, results_size))\n",
    "#image1"
   ]
  },
  {
   "cell_type": "code",
   "execution_count": null,
   "metadata": {
    "executionInfo": {
     "elapsed": 188,
     "status": "ok",
     "timestamp": 1636132961202,
     "user": {
      "displayName": "Ayush Sharma",
      "photoUrl": "https://lh3.googleusercontent.com/a-/AOh14GifvA-4dusgjDSih1mKNTcUkMKyTdEvmuzoHC3dCw=s64",
      "userId": "06400673394490416458"
     },
     "user_tz": -330
    },
    "id": "qv4lotLj0qXO"
   },
   "outputs": [],
   "source": [
    "vector_list_2 = [image_map_data['latent_vector'][randrange(image_map_dimensions*image_map_dimensions)] for i in range(4)]\n",
    "proportion_list_2 = [0.25, 0.25, 0.25, 0.25]\n",
    "latent_code2 = get_interpolated_vector(vector_list_2, proportion_list_2)\n",
    "\n",
    "image2 = Image.fromarray(generate_image_from_z(latent_code2)[0]).resize((results_size, results_size))\n",
    "#image2"
   ]
  },
  {
   "cell_type": "code",
   "execution_count": null,
   "metadata": {
    "colab": {
     "base_uri": "https://localhost:8080/"
    },
    "executionInfo": {
     "elapsed": 192,
     "status": "ok",
     "timestamp": 1636132961209,
     "user": {
      "displayName": "Ayush Sharma",
      "photoUrl": "https://lh3.googleusercontent.com/a-/AOh14GifvA-4dusgjDSih1mKNTcUkMKyTdEvmuzoHC3dCw=s64",
      "userId": "06400673394490416458"
     },
     "user_tz": -330
    },
    "id": "Uz0cpF2ivnM_",
    "outputId": "fd0ee7ce-21dd-4406-da46-68691cc46ebc"
   },
   "outputs": [],
   "source": [
    "make_latent_interp_animation(latent_code2, latent_code1, image1, image2, num_interps=64)"
   ]
  },
  {
   "cell_type": "code",
   "execution_count": null,
   "metadata": {
    "colab": {
     "base_uri": "https://localhost:8080/",
     "height": 273,
     "output_embedded_package_id": "1Mb_9GvMp3pR0g44onXDH3FAqcgcf2hep"
    },
    "executionInfo": {
     "elapsed": 168,
     "status": "ok",
     "timestamp": 1636132961212,
     "user": {
      "displayName": "Ayush Sharma",
      "photoUrl": "https://lh3.googleusercontent.com/a-/AOh14GifvA-4dusgjDSih1mKNTcUkMKyTdEvmuzoHC3dCw=s64",
      "userId": "06400673394490416458"
     },
     "user_tz": -330
    },
    "id": "opNFqweo0vr9",
    "outputId": "d5a66b47-675d-43d4-e378-4865ad327c1f"
   },
   "outputs": [],
   "source": [
    "from IPython.display import Image as ipyimg\n",
    "ipyimg(open('/content/output_gifs/latent_space_traversal.gif','rb').read())"
   ]
  },
  {
   "cell_type": "markdown",
   "metadata": {
    "id": "ymFDcu2j2xOp"
   },
   "source": [
    "#API Endpoint"
   ]
  },
  {
   "cell_type": "code",
   "execution_count": null,
   "metadata": {
    "colab": {
     "base_uri": "https://localhost:8080/"
    },
    "executionInfo": {
     "elapsed": 3733,
     "status": "ok",
     "timestamp": 1636132964855,
     "user": {
      "displayName": "Ayush Sharma",
      "photoUrl": "https://lh3.googleusercontent.com/a-/AOh14GifvA-4dusgjDSih1mKNTcUkMKyTdEvmuzoHC3dCw=s64",
      "userId": "06400673394490416458"
     },
     "user_tz": -330
    },
    "id": "Cf80OEW3dBJX",
    "outputId": "748c959a-efa5-4a09-ba8f-a01f1b684cc4"
   },
   "outputs": [],
   "source": [
    "!pip install flask-ngrok\n",
    "!pip install flask==0.12.2"
   ]
  },
  {
   "cell_type": "code",
   "execution_count": null,
   "metadata": {
    "colab": {
     "base_uri": "https://localhost:8080/"
    },
    "executionInfo": {
     "elapsed": 8194,
     "status": "ok",
     "timestamp": 1636132973046,
     "user": {
      "displayName": "Ayush Sharma",
      "photoUrl": "https://lh3.googleusercontent.com/a-/AOh14GifvA-4dusgjDSih1mKNTcUkMKyTdEvmuzoHC3dCw=s64",
      "userId": "06400673394490416458"
     },
     "user_tz": -330
    },
    "id": "_5lQLt_g2DsF",
    "outputId": "84274393-6429-48f7-fce1-8aa53820d22d"
   },
   "outputs": [],
   "source": [
    "!pip install flask_cors\n",
    "!pip install Flask-JSGlue"
   ]
  },
  {
   "cell_type": "code",
   "execution_count": null,
   "metadata": {
    "colab": {
     "base_uri": "https://localhost:8080/"
    },
    "executionInfo": {
     "elapsed": 934,
     "status": "ok",
     "timestamp": 1636132973975,
     "user": {
      "displayName": "Ayush Sharma",
      "photoUrl": "https://lh3.googleusercontent.com/a-/AOh14GifvA-4dusgjDSih1mKNTcUkMKyTdEvmuzoHC3dCw=s64",
      "userId": "06400673394490416458"
     },
     "user_tz": -330
    },
    "id": "Y1Ld_qBEqAu-",
    "outputId": "73e62e47-a4c1-4491-e60e-329ff5a5b7d3"
   },
   "outputs": [],
   "source": [
    "import pandas\n",
    "!wget https://raw.githubusercontent.com/Ayush9719/Test/main/100-handbags.pkl\n",
    "\n",
    "# image_map_data = pd.read_csv(\"2500_handbag_images_df.csv\")\n",
    "\n",
    "import pandas as pd\n",
    "df = pd.read_pickle(\"100-handbags.pkl\")\n",
    "# print(image_map_data.head())\n",
    "# from ast import literal_eval\n",
    "# df['latent_vector'] = pd.eval(df['latent_vector'])\n",
    "# df['latent_vector']=df['latent_vector'].apply(lambda x: literal_eval(x))\n",
    "print(df['latent_vector'][0][0])\n",
    "type(df['latent_vector'][0][0])\n"
   ]
  },
  {
   "cell_type": "code",
   "execution_count": null,
   "metadata": {
    "executionInfo": {
     "elapsed": 4,
     "status": "ok",
     "timestamp": 1636132973976,
     "user": {
      "displayName": "Ayush Sharma",
      "photoUrl": "https://lh3.googleusercontent.com/a-/AOh14GifvA-4dusgjDSih1mKNTcUkMKyTdEvmuzoHC3dCw=s64",
      "userId": "06400673394490416458"
     },
     "user_tz": -330
    },
    "id": "RcwI5-D43eek"
   },
   "outputs": [],
   "source": [
    "import pandas as pd\n",
    "from random import randrange\n",
    "\n",
    "\n",
    "image_map_dimensions = 3\n",
    "\n",
    "def make_image_map(image_map_dimensions = 3):\n",
    "  image_map_data = []\n",
    "  for i in range(image_map_dimensions * image_map_dimensions):\n",
    "    image, latent_code = generate_image_random(randrange(1000000))\n",
    "    image_map_data.append(\n",
    "        {\n",
    "          'id': 'pos_' + str(i),\n",
    "          'image': image,\n",
    "          'latent_vector':  latent_code\n",
    "        })\n",
    "\n",
    "  image_map_data = pd.DataFrame(image_map_data)\n",
    "  \n",
    "  return image_map_data"
   ]
  },
  {
   "cell_type": "code",
   "execution_count": null,
   "metadata": {
    "executionInfo": {
     "elapsed": 471497,
     "status": "ok",
     "timestamp": 1636133445470,
     "user": {
      "displayName": "Ayush Sharma",
      "photoUrl": "https://lh3.googleusercontent.com/a-/AOh14GifvA-4dusgjDSih1mKNTcUkMKyTdEvmuzoHC3dCw=s64",
      "userId": "06400673394490416458"
     },
     "user_tz": -330
    },
    "id": "6_wmaxpq3EoP"
   },
   "outputs": [],
   "source": [
    "from sklearn.decomposition import KernelPCA\n",
    "import random\n",
    "\n",
    "\n",
    "image_map_data = make_image_map(100)\n",
    "\n",
    "latent_vectors = [x[0] for x in image_map_data['latent_vector']]\n",
    "\n",
    "\n",
    "\n"
   ]
  },
  {
   "cell_type": "code",
   "execution_count": null,
   "metadata": {
    "colab": {
     "base_uri": "https://localhost:8080/"
    },
    "executionInfo": {
     "elapsed": 179047,
     "status": "ok",
     "timestamp": 1636133624511,
     "user": {
      "displayName": "Ayush Sharma",
      "photoUrl": "https://lh3.googleusercontent.com/a-/AOh14GifvA-4dusgjDSih1mKNTcUkMKyTdEvmuzoHC3dCw=s64",
      "userId": "06400673394490416458"
     },
     "user_tz": -330
    },
    "id": "Vt83Skh_3vOL",
    "outputId": "1985ada4-42ef-4337-c48e-118f9c59f5ae"
   },
   "outputs": [],
   "source": [
    "\n",
    "transformer = KernelPCA(n_components=10, kernel='sigmoid', fit_inverse_transform = True)\n",
    "transformer = transformer.fit(latent_vectors)\n",
    "\n",
    "\n",
    "\n",
    "# inv_transformed_vectors = transformer.inverse_transform(reduced_vectors)\n"
   ]
  },
  {
   "cell_type": "code",
   "execution_count": null,
   "metadata": {
    "executionInfo": {
     "elapsed": 7419,
     "status": "ok",
     "timestamp": 1636133631916,
     "user": {
      "displayName": "Ayush Sharma",
      "photoUrl": "https://lh3.googleusercontent.com/a-/AOh14GifvA-4dusgjDSih1mKNTcUkMKyTdEvmuzoHC3dCw=s64",
      "userId": "06400673394490416458"
     },
     "user_tz": -330
    },
    "id": "3wcKv-xN6gHB"
   },
   "outputs": [],
   "source": [
    "\n",
    "reduced_vectors = transformer.transform(latent_vectors)\n",
    "noise = np.std(reduced_vectors, axis = 0)"
   ]
  },
  {
   "cell_type": "code",
   "execution_count": null,
   "metadata": {
    "colab": {
     "base_uri": "https://localhost:8080/",
     "height": 1000
    },
    "executionInfo": {
     "elapsed": 7241,
     "status": "ok",
     "timestamp": 1636133639151,
     "user": {
      "displayName": "Ayush Sharma",
      "photoUrl": "https://lh3.googleusercontent.com/a-/AOh14GifvA-4dusgjDSih1mKNTcUkMKyTdEvmuzoHC3dCw=s64",
      "userId": "06400673394490416458"
     },
     "user_tz": -330
    },
    "id": "EHOntJNw4a0r",
    "outputId": "e89a34c4-5abe-44a1-ea67-0e1db746fa80"
   },
   "outputs": [],
   "source": [
    "import time\n",
    "def make_image_map_kernelPCA(anchor_image_code, image_map_dimensions = 3):\n",
    "  similarimages_map_data = []\n",
    "  embedding = transformer.transform(anchor_image_code)\n",
    "  k = 0\n",
    "  for i in range(image_map_dimensions):\n",
    "    for j in range(image_map_dimensions):\n",
    "      \n",
    "      start_time = time.time()\n",
    "\n",
    "      embedding = transformer.transform(anchor_image_code)[0]\n",
    "      embedding = [[random.uniform(embedding[x] - noise[x]/2, embedding[x] + noise[x]/2) for x in range(10)]]\n",
    "      \n",
    "\n",
    "      latent_code = transformer.inverse_transform(embedding)\n",
    "      image = generate_image_from_z(latent_code)\n",
    "\n",
    "      #img_sv = Image.fromarray(image[0])\n",
    "      #img_sv.save('images_separate/'+str(k)+'.jpg', 'JPEG')\n",
    "\n",
    "      time_taken = time.time() - start_time\n",
    "\n",
    "      #print(\"i, j :\" , [i, j])\n",
    "      #print(\"Reduced Anchor + Noise: \", embedding)\n",
    "      #print(\"Time Taken: \", time_taken)\n",
    "      #print(\"\\n\")\n",
    "\n",
    "      #anchor_image_vector = latent_code\n",
    "      \n",
    "      similarimages_map_data.append(\n",
    "          {\n",
    "            'id': 'pos_' + str(k),\n",
    "            'image': image,\n",
    "            'latent_vector':  latent_code\n",
    "          })\n",
    "      k = k+1  \n",
    "  similarimages_map_data = pd.DataFrame(similarimages_map_data)\n",
    "  \n",
    "  return similarimages_map_data\n",
    "\n",
    "\n",
    "anchor_image_code = np.array([latent_vectors[1140]])\n",
    "kernelPCA_map_data = make_image_map_kernelPCA(anchor_image_code, image_map_dimensions = 5)\n",
    "\n",
    "plot_image_map(kernelPCA_map_data, 5)"
   ]
  },
  {
   "cell_type": "code",
   "execution_count": null,
   "metadata": {
    "colab": {
     "base_uri": "https://localhost:8080/",
     "height": 214
    },
    "executionInfo": {
     "elapsed": 695,
     "status": "error",
     "timestamp": 1636133639836,
     "user": {
      "displayName": "Ayush Sharma",
      "photoUrl": "https://lh3.googleusercontent.com/a-/AOh14GifvA-4dusgjDSih1mKNTcUkMKyTdEvmuzoHC3dCw=s64",
      "userId": "06400673394490416458"
     },
     "user_tz": -330
    },
    "id": "a5AC5H218d0Z",
    "outputId": "b475c79e-b683-4696-f802-71173057ae0a"
   },
   "outputs": [],
   "source": [
    "img =\"/content/ProductDesign/img/handbags-fakes4.png\"\n",
    "im = Image.open(img)\n",
    "\n",
    "buffer = io.BytesIO()\n",
    "im.save(buffer, format=\"PNG\")"
   ]
  },
  {
   "cell_type": "code",
   "execution_count": null,
   "metadata": {
    "colab": {
     "base_uri": "https://localhost:8080/"
    },
    "id": "MAnwHidJd2tR",
    "outputId": "802c8272-0883-4473-f96d-a9d45215db76"
   },
   "outputs": [],
   "source": [
    "from flask import request, render_template,current_app\n",
    "from flask_cors import CORS\n",
    "import base64\n",
    "# flask_ngrok_example.py\n",
    "from flask import Flask\n",
    "from flask import Response\n",
    "from flask_ngrok import run_with_ngrok\n",
    "import io\n",
    "from flask import make_response\n",
    "from flask import jsonify\n",
    "\n",
    "app = Flask(__name__, template_folder='/content/ProductDesign/',static_folder='/content/ProductDesign/',static_url_path='' )\n",
    "# app.config['JSONIFY_PRETTYPRINT_REGULAR'] = False\n",
    "run_with_ngrok(app)  # Start ngrok when app is run\n",
    "CORS(app)\n",
    "cors = CORS(app, resource={\n",
    "    r\"/*\":{\n",
    "        \"origins\":\"*\"\n",
    "    }\n",
    "})\n",
    "\n",
    "global latent_vector \n",
    "@app.route(\"/image\", methods=['POST'])\n",
    "def send_interpolated_image1():\n",
    "  print('Hello!')\n",
    "  response = request.get_json() #New [['pos_1', 0.2], ['pos_2', 0.2], ['pos_3', 0.3], ['pos_4', 0.3]]  ## Old{'pos_1': 0.2,'pos_2': 0.2,'pos_3': 0.3,'pos_4': 0.3}\n",
    "  print(response)\n",
    "  # latent_vector_list = [image_map_data.loc[image_map_data['id'] == x, 'latent_vector'].iloc[0] for x in response.keys()]\n",
    "\n",
    "  \n",
    "  latent_vector_list = [df.loc[df['id'] == x[0], 'latent_vector'].iloc[0] for x in response]\n",
    "  # latent_vector_list = [x[1] for x in response]\n",
    "  # print(latent_vector_list)\n",
    "  proportion_list = [x[1] for x in response]\n",
    "\n",
    "  # print(proportion_list)\n",
    "  # print(latent_vector_list[0])\n",
    "  global latent_vector\n",
    "  latent_vector = get_interpolated_vector(latent_vector_list, proportion_list)\n",
    "  \n",
    "  interpolated_image = Image.fromarray(generate_image_from_z(latent_vector)[0]).resize((results_size, results_size))\n",
    "  \n",
    "  buffer1 = io.BytesIO()\n",
    "  interpolated_image.save(buffer1, format=\"PNG\")\n",
    "\n",
    "  \n",
    "  # images_array = [buffer1,buffer2]\n",
    "  \n",
    "  return Response(buffer1.getvalue(), mimetype='image/png')\n",
    "\n",
    "\n",
    "@app.route(\"/image-map\", methods=['POST'])\n",
    "def send_something():\n",
    "  global latent_vector\n",
    "  # latent_vector = global latent_vector\n",
    "  anchor_image_code = np.array(latent_vector)\n",
    "  kernelPCA_map_data = make_image_map_kernelPCA(anchor_image_code, image_map_dimensions = 5)\n",
    "  plot_image_map(kernelPCA_map_data, 5)\n",
    "  \n",
    "  new_im = Image.open(\"/content/ProductDesign/img/handbags-fakes4.png\")\n",
    "  buffer2 = io.BytesIO()\n",
    "  new_im.save(buffer2, format=\"PNG\")\n",
    "  return Response(buffer2.getvalue(), mimetype='image/png')\n",
    "\n",
    "\n",
    "@app.route(\"/\", methods=[\"GET\"])\n",
    "def display_ui1():\n",
    "  path = os.path.join(current_app.root_path, 'myDailyReports')\n",
    "  print(path)\n",
    "  print(\"In UI\")\n",
    "  return render_template('index.html')\n",
    "    \n",
    "\n",
    "if __name__ == '__main__':\n",
    "     app.run()  # If address is in use, may need to terminate other sessions:\n",
    "                # Runtime > Manage Sessions > Terminate Other Sessions"
   ]
  },
  {
   "cell_type": "code",
   "execution_count": null,
   "metadata": {
    "executionInfo": {
     "elapsed": 12,
     "status": "aborted",
     "timestamp": 1636133639835,
     "user": {
      "displayName": "Ayush Sharma",
      "photoUrl": "https://lh3.googleusercontent.com/a-/AOh14GifvA-4dusgjDSih1mKNTcUkMKyTdEvmuzoHC3dCw=s64",
      "userId": "06400673394490416458"
     },
     "user_tz": -330
    },
    "id": "4wLBVEX_h7bN"
   },
   "outputs": [],
   "source": [
    "response = [['pos_1', 0.2], ['pos_1', 0.3], ['pos_3', 0.3], ['pos_4', 0.3]]  ## Old{'pos_1': 0.2,'pos_2': 0.2,'pos_3': 0.3,'pos_4': 0.3}\n",
    "print(response)\n",
    "# latent_vector_list = [image_map_data.loc[image_map_data['id'] == x, 'latent_vector'].iloc[0] for x in response.keys()]\n",
    "latent_vector_list = [image_map_data.loc[image_map_data['id'] == x[0], 'latent_vector'].iloc[0] for x in response]\n",
    "# latent_vector_list = [x[1] for x in response]\n",
    "print(len(latent_vector_list))\n",
    "proportion_list = [x[1] for x in response]\n",
    "print(proportion_list)"
   ]
  }
 ],
 "metadata": {
  "accelerator": "GPU",
  "colab": {
   "collapsed_sections": [],
   "name": "UI_and_Interpolation.ipynb",
   "provenance": [
    {
     "file_id": "13Ohm4ff86revNaVqrBGPm3tVUQ2CZhS2",
     "timestamp": 1634896579980
    },
    {
     "file_id": "1jSsjlRfBHh27RADh4TctLEQazngmLbzv",
     "timestamp": 1633542646884
    }
   ]
  },
  "kernelspec": {
   "display_name": "Python 3 (ipykernel)",
   "language": "python",
   "name": "python3"
  },
  "language_info": {
   "codemirror_mode": {
    "name": "ipython",
    "version": 3
   },
   "file_extension": ".py",
   "mimetype": "text/x-python",
   "name": "python",
   "nbconvert_exporter": "python",
   "pygments_lexer": "ipython3",
   "version": "3.10.6"
  }
 },
 "nbformat": 4,
 "nbformat_minor": 1
}
